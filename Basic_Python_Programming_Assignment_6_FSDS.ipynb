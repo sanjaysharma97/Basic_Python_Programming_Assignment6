{
 "cells": [
  {
   "cell_type": "markdown",
   "id": "fe07b977",
   "metadata": {},
   "source": [
    "# 1. Write a Python Program to Display Fibonacci Sequence Using Recursion?\n",
    "\n",
    "ANSWER-"
   ]
  },
  {
   "cell_type": "code",
   "execution_count": 7,
   "id": "594d6df5",
   "metadata": {},
   "outputs": [
    {
     "name": "stdout",
     "output_type": "stream",
     "text": [
      "enter terms for sequence you want 6\n",
      "fibonacci sequence: \n",
      "0\n",
      "1\n",
      "1\n",
      "2\n",
      "3\n",
      "5\n"
     ]
    }
   ],
   "source": [
    "def Recur_fib(num):\n",
    "    if num<=1:\n",
    "        return num\n",
    "    else:\n",
    "        return Recur_fib(num-1)+Recur_fib(num-2)\n",
    "    \n",
    "nterms=int(input(\"enter terms for sequence you want \"))\n",
    "if nterms<0:\n",
    "    print(\"enter a positive number\")\n",
    "else:\n",
    "    print(\"fibonacci sequence: \")\n",
    "    for i in range(nterms):\n",
    "        print(Recur_fib(i))\n",
    "        "
   ]
  },
  {
   "cell_type": "markdown",
   "id": "c605b52c",
   "metadata": {},
   "source": [
    "# 2. Write a Python Program to Find Factorial of Number Using Recursion?\n",
    "\n",
    "ANSWER-"
   ]
  },
  {
   "cell_type": "code",
   "execution_count": 15,
   "id": "77f219f2",
   "metadata": {},
   "outputs": [
    {
     "name": "stdout",
     "output_type": "stream",
     "text": [
      "enter a number: 7\n",
      "The factorial of given number 7 is 5040\n"
     ]
    }
   ],
   "source": [
    "def factorial(num):\n",
    "    if num<1:\n",
    "        return 1\n",
    "    else:\n",
    "        return num*factorial(num-1)\n",
    "    \n",
    "n=int(input(\"enter a number: \"))\n",
    "F=factorial(n)\n",
    "print(f\"The factorial of given number {n} is {F}\")"
   ]
  },
  {
   "cell_type": "markdown",
   "id": "f9ca165b",
   "metadata": {},
   "source": [
    "# 3. Write a Python Program to calculate your Body Mass Index?\n",
    "\n",
    "ANSWER-"
   ]
  },
  {
   "cell_type": "code",
   "execution_count": 9,
   "id": "3abd3a11",
   "metadata": {},
   "outputs": [
    {
     "name": "stdout",
     "output_type": "stream",
     "text": [
      "enter a height in cm: 165\n",
      "enter a weightin kg: 65\n",
      "your body mass index is: 23.875114784205696\n",
      "you are fit :\n"
     ]
    }
   ],
   "source": [
    "Height=float(input(\"enter a height in cm: \"))\n",
    "Weight=float(input(\"enter a weightin kg: \"))\n",
    "BMI=(Weight)/(Height/100)**2\n",
    "print(\"your body mass index is:\", BMI)\n",
    "if BMI<=18.5:\n",
    "    print(\"you are under weight:\")\n",
    "elif BMI<=24.9:\n",
    "    print(\"you are fit :\")\n",
    "elif BMI<=29.9:\n",
    "    print(\"you are overweight: \")\n",
    "else:\n",
    "    print(\"you are obese\")"
   ]
  },
  {
   "cell_type": "markdown",
   "id": "3263f99e",
   "metadata": {},
   "source": [
    "# 4. Write a Python Program to calculate the natural logarithm of any number?\n",
    "\n",
    "ANSWER-"
   ]
  },
  {
   "cell_type": "code",
   "execution_count": 16,
   "id": "170ace01",
   "metadata": {},
   "outputs": [
    {
     "name": "stdout",
     "output_type": "stream",
     "text": [
      "enter a number: 100\n",
      "the natural log of given number 100 is 4.605170185988092\n"
     ]
    }
   ],
   "source": [
    "import math\n",
    "def natural_log(n):\n",
    "    return math.log(n)\n",
    "num=int(input(\"enter a number: \"))\n",
    "L=natural_log(num)\n",
    "print(f\"the natural log of given number {num} is {L}\")"
   ]
  },
  {
   "cell_type": "markdown",
   "id": "1bd0fcbd",
   "metadata": {},
   "source": [
    "# 5. Write a Python Program for cube sum of first n natural numbers?\n",
    "\n",
    "ANSWER-"
   ]
  },
  {
   "cell_type": "code",
   "execution_count": 23,
   "id": "1df833d7",
   "metadata": {},
   "outputs": [
    {
     "name": "stdout",
     "output_type": "stream",
     "text": [
      "enter a number: 10\n",
      "the cube of given natural number 10 is 3025.0\n"
     ]
    }
   ],
   "source": [
    "def cube_sum_of_natural_number(n):\n",
    "    return pow(((n*(n+1))/2),2)\n",
    "num=int(input(\"enter a number: \"))\n",
    "S=cube_sum_of_natural_number(num)\n",
    "print(f\"the cube of given natural number {num} is {S}\")"
   ]
  },
  {
   "cell_type": "code",
   "execution_count": null,
   "id": "345e0e01",
   "metadata": {},
   "outputs": [],
   "source": []
  }
 ],
 "metadata": {
  "kernelspec": {
   "display_name": "Python 3 (ipykernel)",
   "language": "python",
   "name": "python3"
  },
  "language_info": {
   "codemirror_mode": {
    "name": "ipython",
    "version": 3
   },
   "file_extension": ".py",
   "mimetype": "text/x-python",
   "name": "python",
   "nbconvert_exporter": "python",
   "pygments_lexer": "ipython3",
   "version": "3.9.12"
  }
 },
 "nbformat": 4,
 "nbformat_minor": 5
}
